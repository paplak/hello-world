{
 "cells": [
  {
   "cell_type": "markdown",
   "id": "963afbb8",
   "metadata": {},
   "source": [
    "## Analysing atp tennis matches with pandas<br><br> "
   ]
  },
  {
   "cell_type": "markdown",
   "id": "2878c161",
   "metadata": {},
   "source": [
    "The dataset we will manipulate with consists of men's tennis matches at Wimbledon.<br><br>Many different approaches are possible so what I am trying to do here is to draw the attention to points that might not seem to be obvious at the first glance.<br>The data I am using can be downloaded in .csv format from the following link.<br>"
   ]
  },
  {
   "cell_type": "markdown",
   "id": "cfbfab6b",
   "metadata": {},
   "source": [
    "<br><br>https://github.com/solajozsef/hello-world/blob/main/AtpWimbledonMatches.csv<br><br>If you need more data it is available at<br><br>http://tennis-data.co.uk<br><br>and there is a 'notes.txt' page explaining the abbreviations on <br><br>http://tennis-data.co.uk/notes.txt<br>"
   ]
  },
  {
   "cell_type": "markdown",
   "id": "e14f088e",
   "metadata": {},
   "source": [
    "### Importing some libraries"
   ]
  },
  {
   "cell_type": "code",
   "execution_count": 1,
   "id": "d3fbf941",
   "metadata": {},
   "outputs": [],
   "source": [
    "import numpy as np\n",
    "import pandas as pd\n",
    "import math\n",
    "import random\n",
    "import glob"
   ]
  },
  {
   "cell_type": "markdown",
   "id": "71bd1c03",
   "metadata": {},
   "source": [
    "<br>This code provides multiple outputs from one code cell."
   ]
  },
  {
   "cell_type": "code",
   "execution_count": 2,
   "id": "93469ea8",
   "metadata": {},
   "outputs": [],
   "source": [
    "from IPython.core.interactiveshell import InteractiveShell\n",
    "InteractiveShell.ast_node_interactivity = \"all\""
   ]
  },
  {
   "cell_type": "code",
   "execution_count": 3,
   "id": "179ae03c",
   "metadata": {},
   "outputs": [
    {
     "data": {
      "text/plain": [
       "(3000,)"
      ]
     },
     "execution_count": 3,
     "metadata": {},
     "output_type": "execute_result"
    },
    {
     "data": {
      "text/plain": [
       "50"
      ]
     },
     "execution_count": 3,
     "metadata": {},
     "output_type": "execute_result"
    }
   ],
   "source": [
    "pd.set_option(\"display.max_rows\", 3000, \"display.max_columns\", 50)\n",
    "pd.get_option(\"display.max_rows\"),\n",
    "pd.get_option(\"display.max_columns\")"
   ]
  },
  {
   "cell_type": "markdown",
   "id": "01575a4c",
   "metadata": {},
   "source": [
    "<br>The dataset we are using can be downloaded from the following github link.<br><br>"
   ]
  },
  {
   "cell_type": "code",
   "execution_count": 6,
   "id": "e488a914",
   "metadata": {},
   "outputs": [],
   "source": [
    "url = 'https://raw.githubusercontent.com/paplak/hello-world/main/AtpWimbledonMatches.csv'"
   ]
  },
  {
   "cell_type": "markdown",
   "id": "3dc50ba2",
   "metadata": {},
   "source": [
    "<br>Because it is a .csv file we have to read it in pandas dataframe.<br><br>"
   ]
  },
  {
   "cell_type": "code",
   "execution_count": 8,
   "id": "ac2cdb03",
   "metadata": {
    "scrolled": false
   },
   "outputs": [],
   "source": [
    "df = pd.read_csv(url)"
   ]
  },
  {
   "cell_type": "markdown",
   "id": "418bb7ae",
   "metadata": {},
   "source": [
    "<br>Some basic info about df columns.<br><br>"
   ]
  },
  {
   "cell_type": "code",
   "execution_count": 9,
   "id": "ea9ee5eb",
   "metadata": {},
   "outputs": [
    {
     "name": "stdout",
     "output_type": "stream",
     "text": [
      "<class 'pandas.core.frame.DataFrame'>\n",
      "RangeIndex: 1905 entries, 0 to 1904\n",
      "Data columns (total 17 columns):\n",
      " #   Column      Non-Null Count  Dtype  \n",
      "---  ------      --------------  -----  \n",
      " 0   Location    1905 non-null   object \n",
      " 1   Tournament  1905 non-null   object \n",
      " 2   Date        1905 non-null   object \n",
      " 3   Winner      1905 non-null   object \n",
      " 4   Loser       1905 non-null   object \n",
      " 5   WRank       1905 non-null   int64  \n",
      " 6   LRank       1905 non-null   int64  \n",
      " 7   W1          1898 non-null   float64\n",
      " 8   L1          1898 non-null   float64\n",
      " 9   W2          1885 non-null   float64\n",
      " 10  L2          1886 non-null   float64\n",
      " 11  W3          1858 non-null   float64\n",
      " 12  L3          1858 non-null   float64\n",
      " 13  Wsets       1899 non-null   float64\n",
      " 14  Lsets       1899 non-null   float64\n",
      " 15  B365W       1897 non-null   float64\n",
      " 16  B365L       1899 non-null   float64\n",
      "dtypes: float64(10), int64(2), object(5)\n",
      "memory usage: 253.1+ KB\n"
     ]
    }
   ],
   "source": [
    "df.info()"
   ]
  },
  {
   "cell_type": "code",
   "execution_count": 7,
   "id": "1bb65117",
   "metadata": {},
   "outputs": [
    {
     "data": {
      "text/plain": [
       "(1905, 17)"
      ]
     },
     "execution_count": 7,
     "metadata": {},
     "output_type": "execute_result"
    }
   ],
   "source": [
    "df.shape"
   ]
  },
  {
   "cell_type": "markdown",
   "id": "14d26aa2",
   "metadata": {},
   "source": [
    "<br>As we see there are 1905 rows and 17 columns in the dataframe we are going to play with.<br><br>"
   ]
  },
  {
   "cell_type": "code",
   "execution_count": 8,
   "id": "4aee17d9",
   "metadata": {},
   "outputs": [
    {
     "data": {
      "text/html": [
       "<div>\n",
       "<style scoped>\n",
       "    .dataframe tbody tr th:only-of-type {\n",
       "        vertical-align: middle;\n",
       "    }\n",
       "\n",
       "    .dataframe tbody tr th {\n",
       "        vertical-align: top;\n",
       "    }\n",
       "\n",
       "    .dataframe thead th {\n",
       "        text-align: right;\n",
       "    }\n",
       "</style>\n",
       "<table border=\"1\" class=\"dataframe\">\n",
       "  <thead>\n",
       "    <tr style=\"text-align: right;\">\n",
       "      <th></th>\n",
       "      <th>WRank</th>\n",
       "      <th>LRank</th>\n",
       "      <th>W1</th>\n",
       "      <th>L1</th>\n",
       "      <th>W2</th>\n",
       "      <th>L2</th>\n",
       "      <th>W3</th>\n",
       "      <th>L3</th>\n",
       "      <th>Wsets</th>\n",
       "      <th>Lsets</th>\n",
       "      <th>B365W</th>\n",
       "      <th>B365L</th>\n",
       "    </tr>\n",
       "  </thead>\n",
       "  <tbody>\n",
       "    <tr>\n",
       "      <th>count</th>\n",
       "      <td>1905.000000</td>\n",
       "      <td>1905.000000</td>\n",
       "      <td>1898.000000</td>\n",
       "      <td>1898.000000</td>\n",
       "      <td>1885.000000</td>\n",
       "      <td>1886.000000</td>\n",
       "      <td>1858.000000</td>\n",
       "      <td>1858.000000</td>\n",
       "      <td>1899.000000</td>\n",
       "      <td>1899.000000</td>\n",
       "      <td>1897.000000</td>\n",
       "      <td>1899.000000</td>\n",
       "    </tr>\n",
       "    <tr>\n",
       "      <th>mean</th>\n",
       "      <td>49.756955</td>\n",
       "      <td>88.554331</td>\n",
       "      <td>5.800843</td>\n",
       "      <td>4.278714</td>\n",
       "      <td>5.855703</td>\n",
       "      <td>4.229056</td>\n",
       "      <td>5.824004</td>\n",
       "      <td>4.043595</td>\n",
       "      <td>2.938915</td>\n",
       "      <td>0.678252</td>\n",
       "      <td>1.777132</td>\n",
       "      <td>5.196707</td>\n",
       "    </tr>\n",
       "    <tr>\n",
       "      <th>std</th>\n",
       "      <td>70.233601</td>\n",
       "      <td>95.966322</td>\n",
       "      <td>1.196269</td>\n",
       "      <td>1.815351</td>\n",
       "      <td>1.184819</td>\n",
       "      <td>1.792565</td>\n",
       "      <td>1.142381</td>\n",
       "      <td>1.835665</td>\n",
       "      <td>0.344239</td>\n",
       "      <td>0.772421</td>\n",
       "      <td>1.696712</td>\n",
       "      <td>5.187248</td>\n",
       "    </tr>\n",
       "    <tr>\n",
       "      <th>min</th>\n",
       "      <td>1.000000</td>\n",
       "      <td>1.000000</td>\n",
       "      <td>0.000000</td>\n",
       "      <td>0.000000</td>\n",
       "      <td>0.000000</td>\n",
       "      <td>0.000000</td>\n",
       "      <td>1.000000</td>\n",
       "      <td>0.000000</td>\n",
       "      <td>0.000000</td>\n",
       "      <td>0.000000</td>\n",
       "      <td>1.000000</td>\n",
       "      <td>1.002000</td>\n",
       "    </tr>\n",
       "    <tr>\n",
       "      <th>25%</th>\n",
       "      <td>11.000000</td>\n",
       "      <td>36.000000</td>\n",
       "      <td>6.000000</td>\n",
       "      <td>3.000000</td>\n",
       "      <td>6.000000</td>\n",
       "      <td>3.000000</td>\n",
       "      <td>6.000000</td>\n",
       "      <td>3.000000</td>\n",
       "      <td>3.000000</td>\n",
       "      <td>0.000000</td>\n",
       "      <td>1.110000</td>\n",
       "      <td>2.000000</td>\n",
       "    </tr>\n",
       "    <tr>\n",
       "      <th>50%</th>\n",
       "      <td>30.000000</td>\n",
       "      <td>70.000000</td>\n",
       "      <td>6.000000</td>\n",
       "      <td>4.000000</td>\n",
       "      <td>6.000000</td>\n",
       "      <td>4.000000</td>\n",
       "      <td>6.000000</td>\n",
       "      <td>4.000000</td>\n",
       "      <td>3.000000</td>\n",
       "      <td>0.000000</td>\n",
       "      <td>1.300000</td>\n",
       "      <td>3.400000</td>\n",
       "    </tr>\n",
       "    <tr>\n",
       "      <th>75%</th>\n",
       "      <td>68.000000</td>\n",
       "      <td>109.000000</td>\n",
       "      <td>6.000000</td>\n",
       "      <td>6.000000</td>\n",
       "      <td>6.000000</td>\n",
       "      <td>6.000000</td>\n",
       "      <td>6.000000</td>\n",
       "      <td>6.000000</td>\n",
       "      <td>3.000000</td>\n",
       "      <td>1.000000</td>\n",
       "      <td>1.720000</td>\n",
       "      <td>6.500000</td>\n",
       "    </tr>\n",
       "    <tr>\n",
       "      <th>max</th>\n",
       "      <td>1065.000000</td>\n",
       "      <td>1085.000000</td>\n",
       "      <td>7.000000</td>\n",
       "      <td>7.000000</td>\n",
       "      <td>7.000000</td>\n",
       "      <td>7.000000</td>\n",
       "      <td>7.000000</td>\n",
       "      <td>7.000000</td>\n",
       "      <td>3.000000</td>\n",
       "      <td>2.000000</td>\n",
       "      <td>29.000000</td>\n",
       "      <td>34.000000</td>\n",
       "    </tr>\n",
       "  </tbody>\n",
       "</table>\n",
       "</div>"
      ],
      "text/plain": [
       "             WRank        LRank           W1           L1           W2  \\\n",
       "count  1905.000000  1905.000000  1898.000000  1898.000000  1885.000000   \n",
       "mean     49.756955    88.554331     5.800843     4.278714     5.855703   \n",
       "std      70.233601    95.966322     1.196269     1.815351     1.184819   \n",
       "min       1.000000     1.000000     0.000000     0.000000     0.000000   \n",
       "25%      11.000000    36.000000     6.000000     3.000000     6.000000   \n",
       "50%      30.000000    70.000000     6.000000     4.000000     6.000000   \n",
       "75%      68.000000   109.000000     6.000000     6.000000     6.000000   \n",
       "max    1065.000000  1085.000000     7.000000     7.000000     7.000000   \n",
       "\n",
       "                L2           W3           L3        Wsets        Lsets  \\\n",
       "count  1886.000000  1858.000000  1858.000000  1899.000000  1899.000000   \n",
       "mean      4.229056     5.824004     4.043595     2.938915     0.678252   \n",
       "std       1.792565     1.142381     1.835665     0.344239     0.772421   \n",
       "min       0.000000     1.000000     0.000000     0.000000     0.000000   \n",
       "25%       3.000000     6.000000     3.000000     3.000000     0.000000   \n",
       "50%       4.000000     6.000000     4.000000     3.000000     0.000000   \n",
       "75%       6.000000     6.000000     6.000000     3.000000     1.000000   \n",
       "max       7.000000     7.000000     7.000000     3.000000     2.000000   \n",
       "\n",
       "             B365W        B365L  \n",
       "count  1897.000000  1899.000000  \n",
       "mean      1.777132     5.196707  \n",
       "std       1.696712     5.187248  \n",
       "min       1.000000     1.002000  \n",
       "25%       1.110000     2.000000  \n",
       "50%       1.300000     3.400000  \n",
       "75%       1.720000     6.500000  \n",
       "max      29.000000    34.000000  "
      ]
     },
     "execution_count": 8,
     "metadata": {},
     "output_type": "execute_result"
    }
   ],
   "source": [
    "df.describe()"
   ]
  },
  {
   "cell_type": "markdown",
   "id": "fa30f892",
   "metadata": {},
   "source": [
    "<br>We can check the first 5 rows of df.<br><br>"
   ]
  },
  {
   "cell_type": "code",
   "execution_count": 9,
   "id": "b1afb14f",
   "metadata": {},
   "outputs": [
    {
     "data": {
      "text/html": [
       "<div>\n",
       "<style scoped>\n",
       "    .dataframe tbody tr th:only-of-type {\n",
       "        vertical-align: middle;\n",
       "    }\n",
       "\n",
       "    .dataframe tbody tr th {\n",
       "        vertical-align: top;\n",
       "    }\n",
       "\n",
       "    .dataframe thead th {\n",
       "        text-align: right;\n",
       "    }\n",
       "</style>\n",
       "<table border=\"1\" class=\"dataframe\">\n",
       "  <thead>\n",
       "    <tr style=\"text-align: right;\">\n",
       "      <th></th>\n",
       "      <th>Location</th>\n",
       "      <th>Tournament</th>\n",
       "      <th>Date</th>\n",
       "      <th>Winner</th>\n",
       "      <th>Loser</th>\n",
       "      <th>WRank</th>\n",
       "      <th>LRank</th>\n",
       "      <th>W1</th>\n",
       "      <th>L1</th>\n",
       "      <th>W2</th>\n",
       "      <th>L2</th>\n",
       "      <th>W3</th>\n",
       "      <th>L3</th>\n",
       "      <th>Wsets</th>\n",
       "      <th>Lsets</th>\n",
       "      <th>B365W</th>\n",
       "      <th>B365L</th>\n",
       "    </tr>\n",
       "  </thead>\n",
       "  <tbody>\n",
       "    <tr>\n",
       "      <th>0</th>\n",
       "      <td>London</td>\n",
       "      <td>Wimbledon</td>\n",
       "      <td>29/06/15</td>\n",
       "      <td>Broady L.</td>\n",
       "      <td>Matosevic M.</td>\n",
       "      <td>182</td>\n",
       "      <td>138</td>\n",
       "      <td>5.0</td>\n",
       "      <td>7.0</td>\n",
       "      <td>4.0</td>\n",
       "      <td>6.0</td>\n",
       "      <td>6.0</td>\n",
       "      <td>3.0</td>\n",
       "      <td>3.0</td>\n",
       "      <td>2.0</td>\n",
       "      <td>2.62</td>\n",
       "      <td>1.44</td>\n",
       "    </tr>\n",
       "    <tr>\n",
       "      <th>1</th>\n",
       "      <td>London</td>\n",
       "      <td>Wimbledon</td>\n",
       "      <td>29/06/15</td>\n",
       "      <td>Cilic M.</td>\n",
       "      <td>Moriya H.</td>\n",
       "      <td>9</td>\n",
       "      <td>174</td>\n",
       "      <td>6.0</td>\n",
       "      <td>3.0</td>\n",
       "      <td>6.0</td>\n",
       "      <td>2.0</td>\n",
       "      <td>7.0</td>\n",
       "      <td>6.0</td>\n",
       "      <td>3.0</td>\n",
       "      <td>0.0</td>\n",
       "      <td>1.02</td>\n",
       "      <td>17.00</td>\n",
       "    </tr>\n",
       "    <tr>\n",
       "      <th>2</th>\n",
       "      <td>London</td>\n",
       "      <td>Wimbledon</td>\n",
       "      <td>29/06/15</td>\n",
       "      <td>Berankis R.</td>\n",
       "      <td>Haider-Maurer A.</td>\n",
       "      <td>90</td>\n",
       "      <td>57</td>\n",
       "      <td>6.0</td>\n",
       "      <td>2.0</td>\n",
       "      <td>5.0</td>\n",
       "      <td>2.0</td>\n",
       "      <td>NaN</td>\n",
       "      <td>NaN</td>\n",
       "      <td>1.0</td>\n",
       "      <td>0.0</td>\n",
       "      <td>1.50</td>\n",
       "      <td>2.50</td>\n",
       "    </tr>\n",
       "    <tr>\n",
       "      <th>3</th>\n",
       "      <td>London</td>\n",
       "      <td>Wimbledon</td>\n",
       "      <td>29/06/15</td>\n",
       "      <td>Thiem D.</td>\n",
       "      <td>Sela D.</td>\n",
       "      <td>30</td>\n",
       "      <td>85</td>\n",
       "      <td>2.0</td>\n",
       "      <td>6.0</td>\n",
       "      <td>6.0</td>\n",
       "      <td>3.0</td>\n",
       "      <td>6.0</td>\n",
       "      <td>4.0</td>\n",
       "      <td>3.0</td>\n",
       "      <td>1.0</td>\n",
       "      <td>1.53</td>\n",
       "      <td>2.37</td>\n",
       "    </tr>\n",
       "    <tr>\n",
       "      <th>4</th>\n",
       "      <td>London</td>\n",
       "      <td>Wimbledon</td>\n",
       "      <td>29/06/15</td>\n",
       "      <td>Granollers M.</td>\n",
       "      <td>Tipsarevic J.</td>\n",
       "      <td>72</td>\n",
       "      <td>486</td>\n",
       "      <td>6.0</td>\n",
       "      <td>3.0</td>\n",
       "      <td>6.0</td>\n",
       "      <td>4.0</td>\n",
       "      <td>6.0</td>\n",
       "      <td>2.0</td>\n",
       "      <td>3.0</td>\n",
       "      <td>0.0</td>\n",
       "      <td>1.57</td>\n",
       "      <td>2.25</td>\n",
       "    </tr>\n",
       "  </tbody>\n",
       "</table>\n",
       "</div>"
      ],
      "text/plain": [
       "  Location Tournament      Date         Winner             Loser  WRank  \\\n",
       "0   London  Wimbledon  29/06/15      Broady L.      Matosevic M.    182   \n",
       "1   London  Wimbledon  29/06/15       Cilic M.         Moriya H.      9   \n",
       "2   London  Wimbledon  29/06/15    Berankis R.  Haider-Maurer A.     90   \n",
       "3   London  Wimbledon  29/06/15       Thiem D.           Sela D.     30   \n",
       "4   London  Wimbledon  29/06/15  Granollers M.     Tipsarevic J.     72   \n",
       "\n",
       "   LRank   W1   L1   W2   L2   W3   L3  Wsets  Lsets  B365W  B365L  \n",
       "0    138  5.0  7.0  4.0  6.0  6.0  3.0    3.0    2.0   2.62   1.44  \n",
       "1    174  6.0  3.0  6.0  2.0  7.0  6.0    3.0    0.0   1.02  17.00  \n",
       "2     57  6.0  2.0  5.0  2.0  NaN  NaN    1.0    0.0   1.50   2.50  \n",
       "3     85  2.0  6.0  6.0  3.0  6.0  4.0    3.0    1.0   1.53   2.37  \n",
       "4    486  6.0  3.0  6.0  4.0  6.0  2.0    3.0    0.0   1.57   2.25  "
      ]
     },
     "execution_count": 9,
     "metadata": {},
     "output_type": "execute_result"
    }
   ],
   "source": [
    "df.head()"
   ]
  },
  {
   "cell_type": "markdown",
   "id": "31ac0621",
   "metadata": {},
   "source": [
    "<br>We can collect df's column names with<br><br>"
   ]
  },
  {
   "cell_type": "code",
   "execution_count": 10,
   "id": "62609c92",
   "metadata": {},
   "outputs": [
    {
     "data": {
      "text/plain": [
       "Index(['Location', 'Tournament', 'Date', 'Winner', 'Loser', 'WRank', 'LRank',\n",
       "       'W1', 'L1', 'W2', 'L2', 'W3', 'L3', 'Wsets', 'Lsets', 'B365W', 'B365L'],\n",
       "      dtype='object')"
      ]
     },
     "execution_count": 10,
     "metadata": {},
     "output_type": "execute_result"
    }
   ],
   "source": [
    "df.columns"
   ]
  },
  {
   "cell_type": "markdown",
   "id": "09580b5e",
   "metadata": {},
   "source": [
    "<br>I like changing capital letters in columns' names, makes life easier.<br><br>"
   ]
  },
  {
   "cell_type": "code",
   "execution_count": 11,
   "id": "53198b4d",
   "metadata": {},
   "outputs": [],
   "source": [
    "df.columns = df.columns.str.lower()"
   ]
  },
  {
   "cell_type": "code",
   "execution_count": 12,
   "id": "390167e7",
   "metadata": {},
   "outputs": [
    {
     "data": {
      "text/plain": [
       "Index(['location', 'tournament', 'date', 'winner', 'loser', 'wrank', 'lrank',\n",
       "       'w1', 'l1', 'w2', 'l2', 'w3', 'l3', 'wsets', 'lsets', 'b365w', 'b365l'],\n",
       "      dtype='object')"
      ]
     },
     "execution_count": 12,
     "metadata": {},
     "output_type": "execute_result"
    }
   ],
   "source": [
    "df.columns"
   ]
  },
  {
   "cell_type": "markdown",
   "id": "69277487",
   "metadata": {},
   "source": [
    "<br>So let's get to it.<br>Let's see how many favorite players with odds lower than say 1.30 won the match and how many lost. The winners odds are in the 'b365w' column.<br>To get a clear view we need to know how many players with odds lower than 1.3 are in the winners' column(b365w) and how many are in the losers' column(b365l).<br><br>"
   ]
  },
  {
   "cell_type": "code",
   "execution_count": 13,
   "id": "e70adff1",
   "metadata": {},
   "outputs": [
    {
     "data": {
      "text/plain": [
       "1104"
      ]
     },
     "execution_count": 13,
     "metadata": {},
     "output_type": "execute_result"
    }
   ],
   "source": [
    "df.query('(b365w <= 1.3) or (b365l <= 1.3) ').b365w.count()"
   ]
  },
  {
   "cell_type": "code",
   "execution_count": 14,
   "id": "48c9cf1a",
   "metadata": {},
   "outputs": [
    {
     "data": {
      "text/plain": [
       "961"
      ]
     },
     "execution_count": 14,
     "metadata": {},
     "output_type": "execute_result"
    }
   ],
   "source": [
    "df.query('(b365w <= 1.3)').b365w.count()"
   ]
  },
  {
   "cell_type": "markdown",
   "id": "41516bc6",
   "metadata": {},
   "source": [
    "<br>When the favorite loses his odds appear in the 'b365l' column.<br><br>"
   ]
  },
  {
   "cell_type": "code",
   "execution_count": 15,
   "id": "704d5ef9",
   "metadata": {},
   "outputs": [
    {
     "data": {
      "text/plain": [
       "143"
      ]
     },
     "execution_count": 15,
     "metadata": {},
     "output_type": "execute_result"
    }
   ],
   "source": [
    "df.query('(b365l <= 1.3)').b365l.count()"
   ]
  },
  {
   "cell_type": "markdown",
   "id": "98f704ac",
   "metadata": {},
   "source": [
    "<br>What we see here is that out of 1104 matches the favorites won 961 matches and lost 143 ones.<br><br>"
   ]
  },
  {
   "cell_type": "markdown",
   "id": "9871ce8b",
   "metadata": {},
   "source": [
    "<br>How many winners' ranks are above say 900 in world ranking.<br><br>"
   ]
  },
  {
   "cell_type": "code",
   "execution_count": 16,
   "id": "d6aa399b",
   "metadata": {},
   "outputs": [
    {
     "data": {
      "text/plain": [
       "2"
      ]
     },
     "execution_count": 16,
     "metadata": {},
     "output_type": "execute_result"
    }
   ],
   "source": [
    "df[df['wrank'] > 900].count().b365w"
   ]
  },
  {
   "cell_type": "markdown",
   "id": "3c392d75",
   "metadata": {},
   "source": [
    "<br>and who are those...<br><br>"
   ]
  },
  {
   "cell_type": "code",
   "execution_count": 17,
   "id": "c0a06a78",
   "metadata": {},
   "outputs": [
    {
     "data": {
      "text/html": [
       "<div>\n",
       "<style scoped>\n",
       "    .dataframe tbody tr th:only-of-type {\n",
       "        vertical-align: middle;\n",
       "    }\n",
       "\n",
       "    .dataframe tbody tr th {\n",
       "        vertical-align: top;\n",
       "    }\n",
       "\n",
       "    .dataframe thead th {\n",
       "        text-align: right;\n",
       "    }\n",
       "</style>\n",
       "<table border=\"1\" class=\"dataframe\">\n",
       "  <thead>\n",
       "    <tr style=\"text-align: right;\">\n",
       "      <th></th>\n",
       "      <th>location</th>\n",
       "      <th>tournament</th>\n",
       "      <th>date</th>\n",
       "      <th>winner</th>\n",
       "      <th>loser</th>\n",
       "      <th>wrank</th>\n",
       "      <th>lrank</th>\n",
       "      <th>w1</th>\n",
       "      <th>l1</th>\n",
       "      <th>w2</th>\n",
       "      <th>l2</th>\n",
       "      <th>w3</th>\n",
       "      <th>l3</th>\n",
       "      <th>wsets</th>\n",
       "      <th>lsets</th>\n",
       "      <th>b365w</th>\n",
       "      <th>b365l</th>\n",
       "    </tr>\n",
       "  </thead>\n",
       "  <tbody>\n",
       "    <tr>\n",
       "      <th>1320</th>\n",
       "      <td>London</td>\n",
       "      <td>Wimbledon</td>\n",
       "      <td>26/06/07</td>\n",
       "      <td>Kiefer N.</td>\n",
       "      <td>Volandri F.</td>\n",
       "      <td>1065</td>\n",
       "      <td>27</td>\n",
       "      <td>6.0</td>\n",
       "      <td>3.0</td>\n",
       "      <td>7.0</td>\n",
       "      <td>6.0</td>\n",
       "      <td>6.0</td>\n",
       "      <td>1.0</td>\n",
       "      <td>3.0</td>\n",
       "      <td>0.0</td>\n",
       "      <td>1.16</td>\n",
       "      <td>4.50</td>\n",
       "    </tr>\n",
       "    <tr>\n",
       "      <th>1354</th>\n",
       "      <td>London</td>\n",
       "      <td>Wimbledon</td>\n",
       "      <td>28/06/07</td>\n",
       "      <td>Kiefer N.</td>\n",
       "      <td>Santoro F.</td>\n",
       "      <td>1065</td>\n",
       "      <td>70</td>\n",
       "      <td>6.0</td>\n",
       "      <td>4.0</td>\n",
       "      <td>6.0</td>\n",
       "      <td>3.0</td>\n",
       "      <td>6.0</td>\n",
       "      <td>4.0</td>\n",
       "      <td>3.0</td>\n",
       "      <td>0.0</td>\n",
       "      <td>2.37</td>\n",
       "      <td>1.53</td>\n",
       "    </tr>\n",
       "  </tbody>\n",
       "</table>\n",
       "</div>"
      ],
      "text/plain": [
       "     location tournament      date     winner        loser  wrank  lrank   w1  \\\n",
       "1320   London  Wimbledon  26/06/07  Kiefer N.  Volandri F.   1065     27  6.0   \n",
       "1354   London  Wimbledon  28/06/07  Kiefer N.   Santoro F.   1065     70  6.0   \n",
       "\n",
       "       l1   w2   l2   w3   l3  wsets  lsets  b365w  b365l  \n",
       "1320  3.0  7.0  6.0  6.0  1.0    3.0    0.0   1.16   4.50  \n",
       "1354  4.0  6.0  3.0  6.0  4.0    3.0    0.0   2.37   1.53  "
      ]
     },
     "execution_count": 17,
     "metadata": {},
     "output_type": "execute_result"
    }
   ],
   "source": [
    "df[df['wrank'] > 900]"
   ]
  },
  {
   "cell_type": "markdown",
   "id": "6ea8253b",
   "metadata": {},
   "source": [
    "<br>Say I would like to see the favorite losers where the favorite odds were between 1.4 and 1.5<br><br>"
   ]
  },
  {
   "cell_type": "code",
   "execution_count": 18,
   "id": "0bafd47c",
   "metadata": {},
   "outputs": [
    {
     "data": {
      "text/plain": [
       "51"
      ]
     },
     "execution_count": 18,
     "metadata": {},
     "output_type": "execute_result"
    }
   ],
   "source": [
    "df.query('(b365l >= 1.4) and (b365l < 1.5)').count().b365w"
   ]
  },
  {
   "cell_type": "markdown",
   "id": "c301b649",
   "metadata": {},
   "source": [
    "<br>... and the total number of games within these favorite odds<br><br>"
   ]
  },
  {
   "cell_type": "code",
   "execution_count": 19,
   "id": "98241855",
   "metadata": {},
   "outputs": [
    {
     "data": {
      "text/plain": [
       "150"
      ]
     },
     "execution_count": 19,
     "metadata": {},
     "output_type": "execute_result"
    }
   ],
   "source": [
    "df.query('((b365w >= 1.4) and (b365w < 1.5)) or ((b365l >= 1.4) and (b365l < 1.5))').count().b365w"
   ]
  },
  {
   "cell_type": "markdown",
   "id": "a511d582",
   "metadata": {},
   "source": [
    "<br>So altogether there were 150 games within these favorite odds and the favorite won 51 matches.<br><br>"
   ]
  },
  {
   "cell_type": "markdown",
   "id": "be384725",
   "metadata": {},
   "source": [
    "<br>Underdogs with odds higher than 4.0 winning the match. <br><br>"
   ]
  },
  {
   "cell_type": "code",
   "execution_count": 20,
   "id": "df304687",
   "metadata": {},
   "outputs": [
    {
     "data": {
      "text/plain": [
       "109"
      ]
     },
     "execution_count": 20,
     "metadata": {},
     "output_type": "execute_result"
    }
   ],
   "source": [
    "df.query('b365w >= 4').count().b365w"
   ]
  },
  {
   "cell_type": "markdown",
   "id": "bf6b3228",
   "metadata": {},
   "source": [
    "<br>And underdogs with odds higher than 4.0 losing the match. <br><br>"
   ]
  },
  {
   "cell_type": "code",
   "execution_count": 21,
   "id": "67e0f9c4",
   "metadata": {},
   "outputs": [
    {
     "data": {
      "text/plain": [
       "845"
      ]
     },
     "execution_count": 21,
     "metadata": {},
     "output_type": "execute_result"
    }
   ],
   "source": [
    "df.query('b365l >= 4').count().b365w"
   ]
  },
  {
   "cell_type": "markdown",
   "id": "695d69ac",
   "metadata": {},
   "source": [
    "<br>Let's see how tennis aces perfom against each other. The following cell filters those games where players' world rankings were between 1 and 10 and we printed the relevant cells.<br><br>wrank: winner's rank<br>lrank: loser's rank<br>b365w: winner's odds<br>b365l: loser's odds<br><br>The first column is the row number column in our table.<br>"
   ]
  },
  {
   "cell_type": "code",
   "execution_count": 22,
   "id": "8a9d41df",
   "metadata": {
    "scrolled": true
   },
   "outputs": [
    {
     "data": {
      "text/plain": [
       "(      wrank  lrank  b365w  b365l\n",
       " 123       1      9   1.08   7.50\n",
       " 126       1      2   1.83   2.00\n",
       " 247       1     10   1.05   9.00\n",
       " 253       1      2   1.16   5.00\n",
       " 380       2      6   1.11   6.50\n",
       " 505       1      2   1.11   6.50\n",
       " 507       1      4   1.14   5.50\n",
       " 630       1      6   1.66   2.20\n",
       " 631       4     10   1.22   4.33\n",
       " 633       1      4   1.57   2.37\n",
       " 757       3      7   1.11   6.50\n",
       " 761       1      3   1.55   2.60\n",
       " 884       5      7   1.20   4.50\n",
       " 888       5      6   1.22   4.50\n",
       " 1011      1      9   1.14   5.50\n",
       " 1014      1      4   1.50   2.62\n",
       " 1136      1      6   1.10   7.00\n",
       " 1140      1      8   1.16   5.00\n",
       " 1268      2      9   1.10   7.00\n",
       " 1269      2      7   1.25   4.33\n",
       " 1382      1     10   1.01  15.00\n",
       " 1395      2      5   1.25   4.00\n",
       " 1396      1      2   1.14   5.50\n",
       " 1519      4      3   1.28   3.75\n",
       " 1522      4      9   1.40   3.00\n",
       " 1523      2      4   1.61   2.40\n",
       " 1646      1      4   1.36   3.20\n",
       " 1900      4      5   1.44   2.75\n",
       " 1903      4      6   1.40   3.00\n",
       " 1904      3      4   1.50   2.75,)"
      ]
     },
     "execution_count": 22,
     "metadata": {},
     "output_type": "execute_result"
    }
   ],
   "source": [
    "df.query('((wrank >= 1) and (wrank <= 10 )) and ((lrank >= 1) and (lrank <= 10 ) and (b365w < b365l))')[['wrank', 'lrank', 'b365w', 'b365l']],"
   ]
  },
  {
   "cell_type": "code",
   "execution_count": 23,
   "id": "eb0cfd2c",
   "metadata": {},
   "outputs": [
    {
     "data": {
      "text/plain": [
       "(      wrank  lrank  b365w  b365l\n",
       " 379       6      3   3.50   1.30\n",
       " 760       3      2   2.10   1.72\n",
       " 1005      9      7   2.87   1.40\n",
       " 1015      2      1   2.30   1.66\n",
       " 1137      8      4   2.10   1.72\n",
       " 1142      2      1   2.50   1.57\n",
       " 1267      7      3   2.62   1.50\n",
       " 1645      8      2  10.00   1.07\n",
       " 1648      8     10   2.00   1.80\n",
       " 1777      2      1   2.20   1.66\n",
       " 1897      5      9   2.20   1.66\n",
       " 1902      3      1   2.87   1.44,)"
      ]
     },
     "execution_count": 23,
     "metadata": {},
     "output_type": "execute_result"
    }
   ],
   "source": [
    "df.query('((wrank >= 1) and (wrank <= 10 )) and ((lrank >= 1) and (lrank <= 10 ) and (b365l < b365w))')[['wrank', 'lrank', 'b365w', 'b365l']],"
   ]
  },
  {
   "cell_type": "markdown",
   "id": "5997dbea",
   "metadata": {},
   "source": [
    "<br>The first table shows the matches where the favorite won and the second where the favorite lost.<br>"
   ]
  },
  {
   "cell_type": "markdown",
   "id": "7404fdae",
   "metadata": {},
   "source": [
    "Let's focus on very strong favorites whose booky odds are below 1.10 and see how they perform.<br>First we check how many matches they won.<br><br>"
   ]
  },
  {
   "cell_type": "code",
   "execution_count": 24,
   "id": "fb879cc1",
   "metadata": {},
   "outputs": [
    {
     "data": {
      "text/plain": [
       "458"
      ]
     },
     "execution_count": 24,
     "metadata": {},
     "output_type": "execute_result"
    }
   ],
   "source": [
    "df.query('b365w <= 1.1').count().b365w"
   ]
  },
  {
   "cell_type": "markdown",
   "id": "32ce0136",
   "metadata": {},
   "source": [
    "<br>Now how many matches they lost<br><br>"
   ]
  },
  {
   "cell_type": "code",
   "execution_count": 25,
   "id": "4d45af98",
   "metadata": {},
   "outputs": [
    {
     "data": {
      "text/plain": [
       "24"
      ]
     },
     "execution_count": 25,
     "metadata": {},
     "output_type": "execute_result"
    }
   ],
   "source": [
    "df.query('b365l <= 1.1').count().b365w"
   ]
  },
  {
   "cell_type": "markdown",
   "id": "21f91096",
   "metadata": {},
   "source": [
    "<br>The figures are quite impressive. We can say that strong favorites with odds lower than 1.10 win the majority of the games. <br><br>"
   ]
  },
  {
   "cell_type": "code",
   "execution_count": 26,
   "id": "eee92e5f",
   "metadata": {},
   "outputs": [
    {
     "data": {
      "text/html": [
       "<div>\n",
       "<style scoped>\n",
       "    .dataframe tbody tr th:only-of-type {\n",
       "        vertical-align: middle;\n",
       "    }\n",
       "\n",
       "    .dataframe tbody tr th {\n",
       "        vertical-align: top;\n",
       "    }\n",
       "\n",
       "    .dataframe thead th {\n",
       "        text-align: right;\n",
       "    }\n",
       "</style>\n",
       "<table border=\"1\" class=\"dataframe\">\n",
       "  <thead>\n",
       "    <tr style=\"text-align: right;\">\n",
       "      <th></th>\n",
       "      <th>location</th>\n",
       "      <th>tournament</th>\n",
       "      <th>date</th>\n",
       "      <th>winner</th>\n",
       "      <th>loser</th>\n",
       "      <th>wrank</th>\n",
       "      <th>lrank</th>\n",
       "      <th>w1</th>\n",
       "      <th>l1</th>\n",
       "      <th>w2</th>\n",
       "      <th>l2</th>\n",
       "      <th>w3</th>\n",
       "      <th>l3</th>\n",
       "      <th>wsets</th>\n",
       "      <th>lsets</th>\n",
       "      <th>b365w</th>\n",
       "      <th>b365l</th>\n",
       "    </tr>\n",
       "  </thead>\n",
       "  <tbody>\n",
       "    <tr>\n",
       "      <th>29</th>\n",
       "      <td>London</td>\n",
       "      <td>Wimbledon</td>\n",
       "      <td>29/06/15</td>\n",
       "      <td>Ilhan M.</td>\n",
       "      <td>Janowicz J.</td>\n",
       "      <td>82</td>\n",
       "      <td>47</td>\n",
       "      <td>7.0</td>\n",
       "      <td>6.0</td>\n",
       "      <td>6.0</td>\n",
       "      <td>4.0</td>\n",
       "      <td>6.0</td>\n",
       "      <td>7.0</td>\n",
       "      <td>3.0</td>\n",
       "      <td>1.0</td>\n",
       "      <td>7.0</td>\n",
       "      <td>1.10</td>\n",
       "    </tr>\n",
       "    <tr>\n",
       "      <th>46</th>\n",
       "      <td>London</td>\n",
       "      <td>Wimbledon</td>\n",
       "      <td>30/06/15</td>\n",
       "      <td>Ramos-Vinolas A.</td>\n",
       "      <td>Istomin D.</td>\n",
       "      <td>65</td>\n",
       "      <td>62</td>\n",
       "      <td>6.0</td>\n",
       "      <td>2.0</td>\n",
       "      <td>6.0</td>\n",
       "      <td>2.0</td>\n",
       "      <td>3.0</td>\n",
       "      <td>2.0</td>\n",
       "      <td>2.0</td>\n",
       "      <td>0.0</td>\n",
       "      <td>7.0</td>\n",
       "      <td>1.10</td>\n",
       "    </tr>\n",
       "    <tr>\n",
       "      <th>223</th>\n",
       "      <td>London</td>\n",
       "      <td>Wimbledon</td>\n",
       "      <td>30/06/06</td>\n",
       "      <td>Verdasco F.</td>\n",
       "      <td>Nalbandian D.</td>\n",
       "      <td>30</td>\n",
       "      <td>3</td>\n",
       "      <td>7.0</td>\n",
       "      <td>6.0</td>\n",
       "      <td>7.0</td>\n",
       "      <td>6.0</td>\n",
       "      <td>6.0</td>\n",
       "      <td>2.0</td>\n",
       "      <td>3.0</td>\n",
       "      <td>0.0</td>\n",
       "      <td>7.0</td>\n",
       "      <td>1.08</td>\n",
       "    </tr>\n",
       "    <tr>\n",
       "      <th>317</th>\n",
       "      <td>London</td>\n",
       "      <td>Wimbledon</td>\n",
       "      <td>24/06/09</td>\n",
       "      <td>Gimeno-Traver D.</td>\n",
       "      <td>Dent T.</td>\n",
       "      <td>98</td>\n",
       "      <td>266</td>\n",
       "      <td>7.0</td>\n",
       "      <td>5.0</td>\n",
       "      <td>7.0</td>\n",
       "      <td>6.0</td>\n",
       "      <td>4.0</td>\n",
       "      <td>6.0</td>\n",
       "      <td>3.0</td>\n",
       "      <td>2.0</td>\n",
       "      <td>7.0</td>\n",
       "      <td>1.08</td>\n",
       "    </tr>\n",
       "    <tr>\n",
       "      <th>464</th>\n",
       "      <td>London</td>\n",
       "      <td>Wimbledon</td>\n",
       "      <td>23/06/05</td>\n",
       "      <td>Tursunov D.</td>\n",
       "      <td>Henman T.</td>\n",
       "      <td>152</td>\n",
       "      <td>9</td>\n",
       "      <td>3.0</td>\n",
       "      <td>6.0</td>\n",
       "      <td>6.0</td>\n",
       "      <td>2.0</td>\n",
       "      <td>3.0</td>\n",
       "      <td>6.0</td>\n",
       "      <td>3.0</td>\n",
       "      <td>2.0</td>\n",
       "      <td>7.0</td>\n",
       "      <td>1.08</td>\n",
       "    </tr>\n",
       "  </tbody>\n",
       "</table>\n",
       "</div>"
      ],
      "text/plain": [
       "    location tournament      date            winner          loser  wrank  \\\n",
       "29    London  Wimbledon  29/06/15          Ilhan M.    Janowicz J.     82   \n",
       "46    London  Wimbledon  30/06/15  Ramos-Vinolas A.     Istomin D.     65   \n",
       "223   London  Wimbledon  30/06/06       Verdasco F.  Nalbandian D.     30   \n",
       "317   London  Wimbledon  24/06/09  Gimeno-Traver D.        Dent T.     98   \n",
       "464   London  Wimbledon  23/06/05       Tursunov D.      Henman T.    152   \n",
       "\n",
       "     lrank   w1   l1   w2   l2   w3   l3  wsets  lsets  b365w  b365l  \n",
       "29      47  7.0  6.0  6.0  4.0  6.0  7.0    3.0    1.0    7.0   1.10  \n",
       "46      62  6.0  2.0  6.0  2.0  3.0  2.0    2.0    0.0    7.0   1.10  \n",
       "223      3  7.0  6.0  7.0  6.0  6.0  2.0    3.0    0.0    7.0   1.08  \n",
       "317    266  7.0  5.0  7.0  6.0  4.0  6.0    3.0    2.0    7.0   1.08  \n",
       "464      9  3.0  6.0  6.0  2.0  3.0  6.0    3.0    2.0    7.0   1.08  "
      ]
     },
     "execution_count": 26,
     "metadata": {},
     "output_type": "execute_result"
    }
   ],
   "source": [
    "df.query('b365l <= 1.1').head()"
   ]
  },
  {
   "cell_type": "markdown",
   "id": "f0318573",
   "metadata": {},
   "source": [
    "<br>We can search for players by name like so<br><br>"
   ]
  },
  {
   "cell_type": "code",
   "execution_count": 27,
   "id": "2c51dfba",
   "metadata": {},
   "outputs": [],
   "source": [
    "name = 'Nadal'\n",
    "wn = df.winner.str.contains(name)\n",
    "ls = df.loser.str.contains(name)"
   ]
  },
  {
   "cell_type": "markdown",
   "id": "6c7cc5d6",
   "metadata": {},
   "source": [
    "<br>Above we created two variables 'wn' and 'ln'. 'wn' stands for winner's name and 'ln' for loser's name.<br>If we want to see how many times this player won or lost, the code is below.<br>Note: if we want to refer to a variable within a query we use the '@' character<br><br>"
   ]
  },
  {
   "cell_type": "code",
   "execution_count": 28,
   "id": "6178f7e6",
   "metadata": {},
   "outputs": [
    {
     "name": "stdout",
     "output_type": "stream",
     "text": [
      "win:  51 times\n",
      "lose:  11 times\n"
     ]
    }
   ],
   "source": [
    "print('win: ', df.query('@wn == True').shape[0],  'times')\n",
    "print('lose: ', df.query('@ls == True').shape[0], 'times')"
   ]
  },
  {
   "cell_type": "markdown",
   "id": "dfdba399",
   "metadata": {},
   "source": [
    "<br>The same process with Thiem.<br><br>"
   ]
  },
  {
   "cell_type": "code",
   "execution_count": 29,
   "id": "10d3c3e4",
   "metadata": {},
   "outputs": [],
   "source": [
    "name = 'Thiem'\n",
    "wn = df.winner.str.contains(name)\n",
    "ls = df.loser.str.contains(name)"
   ]
  },
  {
   "cell_type": "code",
   "execution_count": 30,
   "id": "5bafae3d",
   "metadata": {},
   "outputs": [
    {
     "name": "stdout",
     "output_type": "stream",
     "text": [
      "win:  5 times\n",
      "lose:  6 times\n"
     ]
    }
   ],
   "source": [
    "print('win: ', df.query('@wn == True').shape[0],  'times')\n",
    "print('lose: ', df.query('@ls == True').shape[0], 'times')"
   ]
  },
  {
   "cell_type": "markdown",
   "id": "bde13774",
   "metadata": {},
   "source": [
    "<br>We can even write a little function for this operation.<br><br>"
   ]
  },
  {
   "cell_type": "code",
   "execution_count": 31,
   "id": "fd2ec157",
   "metadata": {},
   "outputs": [],
   "source": [
    "def win_lose(name):\n",
    "    wn = df.winner.str.contains(name)\n",
    "    ls = df.loser.str.contains(name)\n",
    "    \n",
    "    if df.winner.str.contains(name).any():\n",
    "      #  var = df.query('@mm == True').shape[0]\n",
    "        print('win:  ', df.query('@wn == True').shape[0],  'times')\n",
    "        \n",
    "    if df.loser.str.contains(name).any():\n",
    "       # var = df.query('@mm == True').shape[0]\n",
    "        print('lose: ', df.query('@ls == True').shape[0],  'times')"
   ]
  },
  {
   "cell_type": "markdown",
   "id": "1431743d",
   "metadata": {},
   "source": [
    "<br>and then we only have to modify the 'name' variable.<br><br>"
   ]
  },
  {
   "cell_type": "code",
   "execution_count": 34,
   "id": "df5881ce",
   "metadata": {},
   "outputs": [
    {
     "name": "stdout",
     "output_type": "stream",
     "text": [
      "win:   29 times\n",
      "lose:  13 times\n"
     ]
    }
   ],
   "source": [
    "name = 'Cilic'\n",
    "win_lose(name)"
   ]
  },
  {
   "cell_type": "code",
   "execution_count": 35,
   "id": "3fca798f",
   "metadata": {},
   "outputs": [
    {
     "name": "stdout",
     "output_type": "stream",
     "text": [
      "win:   3 times\n",
      "lose:  7 times\n"
     ]
    }
   ],
   "source": [
    "name = 'Berankis'\n",
    "win_lose(name)"
   ]
  },
  {
   "cell_type": "code",
   "execution_count": 37,
   "id": "b75137dc",
   "metadata": {},
   "outputs": [
    {
     "name": "stdout",
     "output_type": "stream",
     "text": [
      "win:   72 times\n",
      "lose:  10 times\n"
     ]
    }
   ],
   "source": [
    "name = 'Djoko'\n",
    "win_lose(name)"
   ]
  },
  {
   "cell_type": "markdown",
   "id": "3d8c3d0b",
   "metadata": {},
   "source": [
    "<br>If you want to know who has defeated Djokovic one possible way is below:<br><br>"
   ]
  },
  {
   "cell_type": "code",
   "execution_count": 40,
   "id": "d43b0e37",
   "metadata": {},
   "outputs": [
    {
     "data": {
      "text/html": [
       "<div>\n",
       "<style scoped>\n",
       "    .dataframe tbody tr th:only-of-type {\n",
       "        vertical-align: middle;\n",
       "    }\n",
       "\n",
       "    .dataframe tbody tr th {\n",
       "        vertical-align: top;\n",
       "    }\n",
       "\n",
       "    .dataframe thead th {\n",
       "        text-align: right;\n",
       "    }\n",
       "</style>\n",
       "<table border=\"1\" class=\"dataframe\">\n",
       "  <thead>\n",
       "    <tr style=\"text-align: right;\">\n",
       "      <th></th>\n",
       "      <th>winner</th>\n",
       "      <th>loser</th>\n",
       "      <th>b365w</th>\n",
       "      <th>b365l</th>\n",
       "    </tr>\n",
       "  </thead>\n",
       "  <tbody>\n",
       "    <tr>\n",
       "      <th>243</th>\n",
       "      <td>Ancic M.</td>\n",
       "      <td>Djokovic N.</td>\n",
       "      <td>1.36</td>\n",
       "      <td>3.00</td>\n",
       "    </tr>\n",
       "    <tr>\n",
       "      <th>375</th>\n",
       "      <td>Haas T.</td>\n",
       "      <td>Djokovic N.</td>\n",
       "      <td>3.20</td>\n",
       "      <td>1.36</td>\n",
       "    </tr>\n",
       "    <tr>\n",
       "      <th>486</th>\n",
       "      <td>Grosjean S.</td>\n",
       "      <td>Djokovic N.</td>\n",
       "      <td>1.14</td>\n",
       "      <td>5.00</td>\n",
       "    </tr>\n",
       "    <tr>\n",
       "      <th>632</th>\n",
       "      <td>Berdych T.</td>\n",
       "      <td>Djokovic N.</td>\n",
       "      <td>2.00</td>\n",
       "      <td>1.80</td>\n",
       "    </tr>\n",
       "    <tr>\n",
       "      <th>885</th>\n",
       "      <td>Berdych T.</td>\n",
       "      <td>Djokovic N.</td>\n",
       "      <td>4.00</td>\n",
       "      <td>1.25</td>\n",
       "    </tr>\n",
       "    <tr>\n",
       "      <th>1142</th>\n",
       "      <td>Murray A.</td>\n",
       "      <td>Djokovic N.</td>\n",
       "      <td>2.50</td>\n",
       "      <td>1.57</td>\n",
       "    </tr>\n",
       "    <tr>\n",
       "      <th>1243</th>\n",
       "      <td>Querrey S.</td>\n",
       "      <td>Djokovic N.</td>\n",
       "      <td>26.00</td>\n",
       "      <td>1.01</td>\n",
       "    </tr>\n",
       "    <tr>\n",
       "      <th>1395</th>\n",
       "      <td>Nadal R.</td>\n",
       "      <td>Djokovic N.</td>\n",
       "      <td>1.25</td>\n",
       "      <td>4.00</td>\n",
       "    </tr>\n",
       "    <tr>\n",
       "      <th>1718</th>\n",
       "      <td>Safin M.</td>\n",
       "      <td>Djokovic N.</td>\n",
       "      <td>9.00</td>\n",
       "      <td>1.05</td>\n",
       "    </tr>\n",
       "    <tr>\n",
       "      <th>1902</th>\n",
       "      <td>Federer R.</td>\n",
       "      <td>Djokovic N.</td>\n",
       "      <td>2.87</td>\n",
       "      <td>1.44</td>\n",
       "    </tr>\n",
       "  </tbody>\n",
       "</table>\n",
       "</div>"
      ],
      "text/plain": [
       "           winner        loser  b365w  b365l\n",
       "243      Ancic M.  Djokovic N.   1.36   3.00\n",
       "375       Haas T.  Djokovic N.   3.20   1.36\n",
       "486   Grosjean S.  Djokovic N.   1.14   5.00\n",
       "632    Berdych T.  Djokovic N.   2.00   1.80\n",
       "885    Berdych T.  Djokovic N.   4.00   1.25\n",
       "1142    Murray A.  Djokovic N.   2.50   1.57\n",
       "1243   Querrey S.  Djokovic N.  26.00   1.01\n",
       "1395     Nadal R.  Djokovic N.   1.25   4.00\n",
       "1718     Safin M.  Djokovic N.   9.00   1.05\n",
       "1902   Federer R.  Djokovic N.   2.87   1.44"
      ]
     },
     "execution_count": 40,
     "metadata": {},
     "output_type": "execute_result"
    }
   ],
   "source": [
    "df[df.loser.str.contains('Djokovic') == True][['winner', 'loser', 'b365w', 'b365l']]"
   ]
  },
  {
   "cell_type": "markdown",
   "id": "c9a03732",
   "metadata": {},
   "source": [
    "<br>Modify the code blocks as you like!"
   ]
  }
 ],
 "metadata": {
  "kernelspec": {
   "display_name": "Python 3",
   "language": "python",
   "name": "python3"
  },
  "language_info": {
   "codemirror_mode": {
    "name": "ipython",
    "version": 3
   },
   "file_extension": ".py",
   "mimetype": "text/x-python",
   "name": "python",
   "nbconvert_exporter": "python",
   "pygments_lexer": "ipython3",
   "version": "3.8.5"
  }
 },
 "nbformat": 4,
 "nbformat_minor": 5
}
