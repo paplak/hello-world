{
 "cells": [
  {
   "cell_type": "markdown",
   "metadata": {},
   "source": [
    "### Function approximation"
   ]
  },
  {
   "cell_type": "markdown",
   "metadata": {},
   "source": [
    "The aim of this little notebook is to show the power of neural network modelling. We pick an <br>arbitrary function and by choosing many points of this function we teach the model the <br>reproduce any point in the function."
   ]
  },
  {
   "cell_type": "markdown",
   "metadata": {},
   "source": [
    "The function we use can be seen below:"
   ]
  },
  {
   "cell_type": "markdown",
   "metadata": {
    "id": "2dczCOw_pcYd"
   },
   "source": [
    "f(x)=0.2+0.4x2+0.3xsin(15x)+0.05cos(50x), <br><br>which can be represented in the following form in python:<br><br>\n",
    "0.2 + 0.4 * X**2 + 0.3 * X * np.sin(15*X) + 0.05 * np.cos(50*X)   "
   ]
  },
  {
   "cell_type": "markdown",
   "metadata": {},
   "source": [
    "In order to produce multiple outputs from one code cell we need the following code block:"
   ]
  },
  {
   "cell_type": "code",
   "execution_count": 1,
   "metadata": {
    "id": "C15C5oddr7v1"
   },
   "outputs": [],
   "source": [
    "from IPython.core.interactiveshell import InteractiveShell\n",
    "InteractiveShell.ast_node_interactivity = \"all\""
   ]
  },
  {
   "cell_type": "markdown",
   "metadata": {},
   "source": [
    "We import the necessary python modules like so:"
   ]
  },
  {
   "cell_type": "code",
   "execution_count": 2,
   "metadata": {
    "id": "bhvUv6km3Bnm"
   },
   "outputs": [],
   "source": [
    "import numpy as np\n",
    "import pandas as pd\n",
    "import matplotlib.pyplot as plt\n",
    "import random "
   ]
  },
  {
   "cell_type": "markdown",
   "metadata": {},
   "source": [
    "Since we use the keras module of python for computation we have to prepare<br>the data in correct form for input.<br>We generate 20000 random numbers between 0 and 1 - these are going to be <br>the the elements of the feature matrix X."
   ]
  },
  {
   "cell_type": "code",
   "execution_count": 3,
   "metadata": {
    "colab": {
     "base_uri": "https://localhost:8080/"
    },
    "id": "EUaV4Gua3Bnw",
    "outputId": "eca6c34b-4a55-4d90-f84f-ca09de522682"
   },
   "outputs": [
    {
     "data": {
      "text/plain": [
       "array([[4.12551252e-06],\n",
       "       [2.04062814e-04],\n",
       "       [5.21640909e-04]])"
      ]
     },
     "execution_count": 3,
     "metadata": {},
     "output_type": "execute_result"
    },
    {
     "data": {
      "text/plain": [
       "(20000, 1)"
      ]
     },
     "execution_count": 3,
     "metadata": {},
     "output_type": "execute_result"
    }
   ],
   "source": [
    "# feature matrix X\n",
    "N = 20000\n",
    "X = [random.uniform(0, 1) for i in range(N)]\n",
    "X = np.sort(X).reshape(-1, 1)\n",
    "X[:3]\n",
    "X.shape"
   ]
  },
  {
   "cell_type": "code",
   "execution_count": 4,
   "metadata": {
    "colab": {
     "base_uri": "https://localhost:8080/"
    },
    "id": "XHsR5ydd3Bn8",
    "outputId": "1695eedd-9c70-4ded-a0b4-8f630764d9ba"
   },
   "outputs": [
    {
     "data": {
      "text/plain": [
       "array([[0.25      ],\n",
       "       [0.2499976 ],\n",
       "       [0.24998433]])"
      ]
     },
     "execution_count": 4,
     "metadata": {},
     "output_type": "execute_result"
    },
    {
     "data": {
      "text/plain": [
       "(20000, 1)"
      ]
     },
     "execution_count": 4,
     "metadata": {},
     "output_type": "execute_result"
    }
   ],
   "source": [
    "# target vector y\n",
    "y = [0.2 + 0.4 * X**2 + 0.3 * X * np.sin(15*X) + 0.05 * np.cos(50*X) for i in range(1)]\n",
    "y = np.array(y).reshape(-1, 1)\n",
    "y[:3]\n",
    "y.shape"
   ]
  },
  {
   "cell_type": "markdown",
   "metadata": {
    "id": "-Zlpo1fnnhzF"
   },
   "source": []
  },
  {
   "cell_type": "code",
   "execution_count": 5,
   "metadata": {
    "colab": {
     "base_uri": "https://localhost:8080/",
     "height": 352
    },
    "id": "GqCW_1nW3BoD",
    "outputId": "7e0723aa-28e8-4446-929c-6203406ddddf"
   },
   "outputs": [
    {
     "data": {
      "text/plain": [
       "[<matplotlib.lines.Line2D at 0x7fcf11671fd0>]"
      ]
     },
     "execution_count": 5,
     "metadata": {},
     "output_type": "execute_result"
    },
    {
     "data": {
      "text/plain": [
       "Text(0.5, 0, 'Angle [rad]')"
      ]
     },
     "execution_count": 5,
     "metadata": {},
     "output_type": "execute_result"
    },
    {
     "data": {
      "text/plain": [
       "Text(0, 0.5, 'sin(x)')"
      ]
     },
     "execution_count": 5,
     "metadata": {},
     "output_type": "execute_result"
    },
    {
     "data": {
      "text/plain": [
       "(-0.04999467529925308,\n",
       " 1.0499789425597508,\n",
       " 0.05734036053698658,\n",
       " 0.8907495525153755)"
      ]
     },
     "execution_count": 5,
     "metadata": {},
     "output_type": "execute_result"
    },
    {
     "data": {
      "image/png": "[encoded data removed]",
      "text/plain": [
       "<Figure size 432x288 with 1 Axes>"
      ]
     },
     "metadata": {
      "needs_background": "light"
     },
     "output_type": "display_data"
    }
   ],
   "source": [
    "# plotting the curves\n",
    "#import matplotlib.pylab as plt\n",
    "\n",
    "#pred = model.predict(X)\n",
    "\n",
    "plt.plot(X, y, 'r-')\n",
    "#plt.plot(X, pred, 'b--')\n",
    "\n",
    "\n",
    "plt.xlabel('Angle [rad]')\n",
    "plt.ylabel('sin(x)')\n",
    "plt.axis('tight')\n",
    "plt.show()"
   ]
  },
  {
   "cell_type": "code",
   "execution_count": 6,
   "metadata": {
    "colab": {
     "base_uri": "https://localhost:8080/"
    },
    "id": "-pDoRzXW3BoJ",
    "outputId": "b0dd055f-703a-49ff-f9b8-8242487b63be"
   },
   "outputs": [
    {
     "data": {
      "text/plain": [
       "(20000, 1)"
      ]
     },
     "execution_count": 6,
     "metadata": {},
     "output_type": "execute_result"
    }
   ],
   "source": [
    "X.shape"
   ]
  },
  {
   "cell_type": "code",
   "execution_count": 7,
   "metadata": {
    "colab": {
     "base_uri": "https://localhost:8080/"
    },
    "id": "srxETJ4-3BoQ",
    "outputId": "dfcd96d3-191b-4fdd-b934-0a934080db62"
   },
   "outputs": [
    {
     "data": {
      "text/plain": [
       "(20000, 1)"
      ]
     },
     "execution_count": 7,
     "metadata": {},
     "output_type": "execute_result"
    }
   ],
   "source": [
    "y.shape"
   ]
  },
  {
   "cell_type": "code",
   "execution_count": 8,
   "metadata": {
    "id": "u9TP5_mm3BoZ"
   },
   "outputs": [],
   "source": [
    "from sklearn import preprocessing"
   ]
  },
  {
   "cell_type": "code",
   "execution_count": 9,
   "metadata": {
    "id": "DSkWIXCd3Bof"
   },
   "outputs": [],
   "source": [
    "#min_max_scaler = preprocessing.MinMaxScaler()\n",
    "#X_scale = min_max_scaler.fit_transform(X)\n",
    "#y_scale = min_max_scaler.fit_transform(y)\n"
   ]
  },
  {
   "cell_type": "raw",
   "metadata": {},
   "source": [
    "import tensorflow as tf\n",
    "from tensorflow import keras\n",
    "from tensorflow.keras import layers # new block"
   ]
  },
  {
   "cell_type": "code",
   "execution_count": 10,
   "metadata": {
    "id": "YO9Z8rM73Bom"
   },
   "outputs": [],
   "source": [
    "from keras.models import Sequential\n",
    "from keras.layers import Dense\n",
    "from keras import regularizers\n",
    "from keras.optimizers import Adam"
   ]
  },
  {
   "cell_type": "code",
   "execution_count": 11,
   "metadata": {
    "id": "-LPrBVyp3Bo-"
   },
   "outputs": [],
   "source": [
    "model = Sequential()\n",
    "model.add(Dense(100, input_shape = (1,), kernel_regularizer=regularizers.l2(0.001), activation='relu'))\n",
    "model.add(Dense(32, activation = 'relu'))\n",
    "model.add(Dense(20, activation = 'relu'))\n",
    "model.add(Dense(1))"
   ]
  },
  {
   "cell_type": "code",
   "execution_count": 12,
   "metadata": {
    "id": "G1XYtN_C3BpG"
   },
   "outputs": [],
   "source": [
    "# compile the keras model\n",
    "model.compile(loss='mse', optimizer= Adam(), metrics=['accuracy'])\n"
   ]
  },
  {
   "cell_type": "code",
   "execution_count": 19,
   "metadata": {
    "colab": {
     "base_uri": "https://localhost:8080/"
    },
    "id": "1whI-sgh3BpR",
    "outputId": "c7b37d5f-792a-461f-8754-f947d5f779e6"
   },
   "outputs": [
    {
     "name": "stdout",
     "output_type": "stream",
     "text": [
      "Epoch 1/100\n",
      "667/667 [==============================] - 1s 1ms/step - loss: 2.7821e-04 - accuracy: 0.0000e+00\n",
      "Epoch 2/100\n",
      "667/667 [==============================] - 1s 1ms/step - loss: 3.0448e-04 - accuracy: 0.0000e+00\n",
      "Epoch 3/100\n",
      "667/667 [==============================] - 1s 1ms/step - loss: 2.6400e-04 - accuracy: 0.0000e+00\n",
      "Epoch 4/100\n",
      "667/667 [==============================] - 1s 1ms/step - loss: 3.0596e-04 - accuracy: 0.0000e+00\n",
      "Epoch 5/100\n",
      "667/667 [==============================] - 1s 1ms/step - loss: 3.1185e-04 - accuracy: 0.0000e+00\n",
      "Epoch 6/100\n",
      "667/667 [==============================] - 1s 1ms/step - loss: 2.8588e-04 - accuracy: 0.0000e+00\n",
      "Epoch 7/100\n",
      "667/667 [==============================] - 1s 1ms/step - loss: 2.7749e-04 - accuracy: 0.0000e+00\n",
      "Epoch 8/100\n",
      "667/667 [==============================] - 1s 1ms/step - loss: 2.6178e-04 - accuracy: 0.0000e+00\n",
      "Epoch 9/100\n",
      "667/667 [==============================] - 1s 1ms/step - loss: 2.5865e-04 - accuracy: 0.0000e+00\n",
      "Epoch 10/100\n",
      "667/667 [==============================] - 1s 1ms/step - loss: 2.5680e-04 - accuracy: 0.0000e+00\n",
      "Epoch 11/100\n",
      "667/667 [==============================] - 1s 1ms/step - loss: 2.8529e-04 - accuracy: 0.0000e+00\n",
      "Epoch 12/100\n",
      "667/667 [==============================] - 1s 1ms/step - loss: 3.6504e-04 - accuracy: 0.0000e+00\n",
      "Epoch 13/100\n",
      "667/667 [==============================] - 1s 1ms/step - loss: 2.1459e-04 - accuracy: 0.0000e+00\n",
      "Epoch 14/100\n",
      "667/667 [==============================] - 1s 1ms/step - loss: 2.4780e-04 - accuracy: 0.0000e+00\n",
      "Epoch 15/100\n",
      "667/667 [==============================] - 1s 1ms/step - loss: 3.1694e-04 - accuracy: 0.0000e+00\n",
      "Epoch 16/100\n",
      "667/667 [==============================] - 1s 1ms/step - loss: 2.3211e-04 - accuracy: 0.0000e+00\n",
      "Epoch 17/100\n",
      "667/667 [==============================] - 1s 1ms/step - loss: 2.4368e-04 - accuracy: 0.0000e+00\n",
      "Epoch 18/100\n",
      "667/667 [==============================] - 1s 1ms/step - loss: 2.1568e-04 - accuracy: 0.0000e+00\n",
      "Epoch 19/100\n",
      "667/667 [==============================] - 1s 1ms/step - loss: 2.2940e-04 - accuracy: 0.0000e+00\n",
      "Epoch 20/100\n",
      "667/667 [==============================] - 1s 1ms/step - loss: 2.4641e-04 - accuracy: 0.0000e+00\n",
      "Epoch 21/100\n",
      "667/667 [==============================] - 1s 1ms/step - loss: 2.2244e-04 - accuracy: 0.0000e+00\n",
      "Epoch 22/100\n",
      "667/667 [==============================] - 1s 1ms/step - loss: 2.4644e-04 - accuracy: 0.0000e+00\n",
      "Epoch 23/100\n",
      "667/667 [==============================] - 1s 1ms/step - loss: 2.2344e-04 - accuracy: 0.0000e+00\n",
      "Epoch 24/100\n",
      "667/667 [==============================] - 1s 1ms/step - loss: 2.1695e-04 - accuracy: 0.0000e+00\n",
      "Epoch 25/100\n",
      "667/667 [==============================] - 1s 1ms/step - loss: 2.2387e-04 - accuracy: 0.0000e+00\n",
      "Epoch 26/100\n",
      "667/667 [==============================] - 1s 1ms/step - loss: 2.1392e-04 - accuracy: 0.0000e+00\n",
      "Epoch 27/100\n",
      "667/667 [==============================] - 1s 1ms/step - loss: 2.4288e-04 - accuracy: 0.0000e+00\n",
      "Epoch 28/100\n",
      "667/667 [==============================] - 1s 1ms/step - loss: 1.9613e-04 - accuracy: 0.0000e+00\n",
      "Epoch 29/100\n",
      "667/667 [==============================] - 1s 1ms/step - loss: 1.8765e-04 - accuracy: 0.0000e+00\n",
      "Epoch 30/100\n",
      "667/667 [==============================] - 1s 1ms/step - loss: 2.1473e-04 - accuracy: 0.0000e+00\n",
      "Epoch 31/100\n",
      "667/667 [==============================] - 1s 1ms/step - loss: 1.9858e-04 - accuracy: 0.0000e+00\n",
      "Epoch 32/100\n",
      "667/667 [==============================] - 1s 1ms/step - loss: 2.3525e-04 - accuracy: 0.0000e+00\n",
      "Epoch 33/100\n",
      "667/667 [==============================] - 1s 2ms/step - loss: 2.4697e-04 - accuracy: 0.0000e+00\n",
      "Epoch 34/100\n",
      "667/667 [==============================] - 1s 2ms/step - loss: 1.9003e-04 - accuracy: 0.0000e+00\n",
      "Epoch 35/100\n",
      "667/667 [==============================] - 1s 1ms/step - loss: 1.8955e-04 - accuracy: 0.0000e+00\n",
      "Epoch 36/100\n",
      "667/667 [==============================] - 1s 1ms/step - loss: 1.9782e-04 - accuracy: 0.0000e+00\n",
      "Epoch 37/100\n",
      "667/667 [==============================] - 1s 1ms/step - loss: 1.9872e-04 - accuracy: 0.0000e+00\n",
      "Epoch 38/100\n",
      "667/667 [==============================] - 1s 1ms/step - loss: 2.9342e-04 - accuracy: 0.0000e+00\n",
      "Epoch 39/100\n",
      "667/667 [==============================] - 1s 1ms/step - loss: 1.6335e-04 - accuracy: 0.0000e+00\n",
      "Epoch 40/100\n",
      "667/667 [==============================] - 1s 1ms/step - loss: 1.7845e-04 - accuracy: 0.0000e+00\n",
      "Epoch 41/100\n",
      "667/667 [==============================] - 1s 1ms/step - loss: 1.9739e-04 - accuracy: 0.0000e+00\n",
      "Epoch 42/100\n",
      "667/667 [==============================] - 1s 1ms/step - loss: 2.0221e-04 - accuracy: 0.0000e+00\n",
      "Epoch 43/100\n",
      "667/667 [==============================] - 1s 1ms/step - loss: 1.7577e-04 - accuracy: 0.0000e+00\n",
      "Epoch 44/100\n",
      "667/667 [==============================] - 1s 1ms/step - loss: 1.9911e-04 - accuracy: 0.0000e+00\n",
      "Epoch 45/100\n",
      "667/667 [==============================] - 1s 1ms/step - loss: 1.7681e-04 - accuracy: 0.0000e+00\n",
      "Epoch 46/100\n",
      "667/667 [==============================] - 1s 1ms/step - loss: 2.0571e-04 - accuracy: 0.0000e+00\n",
      "Epoch 47/100\n",
      "667/667 [==============================] - 1s 1ms/step - loss: 1.6653e-04 - accuracy: 0.0000e+00\n",
      "Epoch 48/100\n",
      "667/667 [==============================] - 1s 1ms/step - loss: 1.7844e-04 - accuracy: 0.0000e+00\n",
      "Epoch 49/100\n",
      "667/667 [==============================] - 1s 1ms/step - loss: 1.7994e-04 - accuracy: 0.0000e+00\n",
      "Epoch 50/100\n",
      "667/667 [==============================] - 1s 1ms/step - loss: 2.0874e-04 - accuracy: 0.0000e+00\n",
      "Epoch 51/100\n",
      "667/667 [==============================] - 1s 1ms/step - loss: 1.8420e-04 - accuracy: 0.0000e+00\n",
      "Epoch 52/100\n",
      "667/667 [==============================] - 1s 1ms/step - loss: 2.4010e-04 - accuracy: 0.0000e+00\n",
      "Epoch 53/100\n",
      "667/667 [==============================] - 1s 1ms/step - loss: 3.4731e-04 - accuracy: 0.0000e+00\n",
      "Epoch 54/100\n",
      "667/667 [==============================] - 1s 1ms/step - loss: 1.4847e-04 - accuracy: 0.0000e+00\n",
      "Epoch 55/100\n",
      "667/667 [==============================] - 1s 1ms/step - loss: 1.6058e-04 - accuracy: 0.0000e+00\n",
      "Epoch 56/100\n",
      "667/667 [==============================] - 1s 1ms/step - loss: 1.7853e-04 - accuracy: 0.0000e+00\n",
      "Epoch 57/100\n",
      "667/667 [==============================] - 1s 1ms/step - loss: 2.0678e-04 - accuracy: 0.0000e+00\n",
      "Epoch 58/100\n",
      "667/667 [==============================] - 1s 1ms/step - loss: 1.5830e-04 - accuracy: 0.0000e+00\n",
      "Epoch 59/100\n",
      "667/667 [==============================] - 1s 1ms/step - loss: 2.1788e-04 - accuracy: 0.0000e+00\n",
      "Epoch 60/100\n",
      "667/667 [==============================] - 1s 1ms/step - loss: 1.7627e-04 - accuracy: 0.0000e+00\n",
      "Epoch 61/100\n",
      "667/667 [==============================] - 1s 1ms/step - loss: 2.0333e-04 - accuracy: 0.0000e+00\n",
      "Epoch 62/100\n",
      "667/667 [==============================] - 1s 1ms/step - loss: 1.6421e-04 - accuracy: 0.0000e+00\n",
      "Epoch 63/100\n",
      "667/667 [==============================] - 1s 1ms/step - loss: 2.0313e-04 - accuracy: 0.0000e+00\n",
      "Epoch 64/100\n",
      "667/667 [==============================] - 1s 1ms/step - loss: 1.5990e-04 - accuracy: 0.0000e+00\n",
      "Epoch 65/100\n",
      "667/667 [==============================] - 1s 1ms/step - loss: 1.7685e-04 - accuracy: 0.0000e+00\n",
      "Epoch 66/100\n",
      "667/667 [==============================] - 1s 1ms/step - loss: 2.0240e-04 - accuracy: 0.0000e+00\n",
      "Epoch 67/100\n",
      "667/667 [==============================] - 1s 1ms/step - loss: 1.7580e-04 - accuracy: 0.0000e+00\n",
      "Epoch 68/100\n",
      "667/667 [==============================] - 1s 1ms/step - loss: 3.4813e-04 - accuracy: 0.0000e+00\n",
      "Epoch 69/100\n",
      "667/667 [==============================] - 1s 1ms/step - loss: 1.4664e-04 - accuracy: 0.0000e+00\n",
      "Epoch 70/100\n",
      "667/667 [==============================] - 1s 1ms/step - loss: 1.7894e-04 - accuracy: 0.0000e+00\n",
      "Epoch 71/100\n",
      "667/667 [==============================] - 1s 1ms/step - loss: 1.9832e-04 - accuracy: 0.0000e+00\n",
      "Epoch 72/100\n",
      "667/667 [==============================] - 1s 2ms/step - loss: 1.4015e-04 - accuracy: 0.0000e+00\n",
      "Epoch 73/100\n",
      "667/667 [==============================] - 1s 1ms/step - loss: 1.8886e-04 - accuracy: 0.0000e+00\n",
      "Epoch 74/100\n",
      "667/667 [==============================] - 1s 1ms/step - loss: 1.5636e-04 - accuracy: 0.0000e+00\n",
      "Epoch 75/100\n"
     ]
    },
    {
     "name": "stdout",
     "output_type": "stream",
     "text": [
      "667/667 [==============================] - 1s 1ms/step - loss: 1.7379e-04 - accuracy: 0.0000e+00\n",
      "Epoch 76/100\n",
      "667/667 [==============================] - 1s 1ms/step - loss: 1.6756e-04 - accuracy: 0.0000e+00\n",
      "Epoch 77/100\n",
      "667/667 [==============================] - 1s 1ms/step - loss: 1.7635e-04 - accuracy: 0.0000e+00\n",
      "Epoch 78/100\n",
      "667/667 [==============================] - 1s 1ms/step - loss: 1.7659e-04 - accuracy: 0.0000e+00\n",
      "Epoch 79/100\n",
      "667/667 [==============================] - 1s 2ms/step - loss: 1.5726e-04 - accuracy: 0.0000e+00\n",
      "Epoch 80/100\n",
      "667/667 [==============================] - 1s 1ms/step - loss: 1.8338e-04 - accuracy: 0.0000e+00\n",
      "Epoch 81/100\n",
      "667/667 [==============================] - 1s 1ms/step - loss: 1.5991e-04 - accuracy: 0.0000e+00\n",
      "Epoch 82/100\n",
      "667/667 [==============================] - 1s 1ms/step - loss: 1.6212e-04 - accuracy: 0.0000e+00\n",
      "Epoch 83/100\n",
      "667/667 [==============================] - 1s 1ms/step - loss: 1.4841e-04 - accuracy: 0.0000e+00\n",
      "Epoch 84/100\n",
      "667/667 [==============================] - 1s 1ms/step - loss: 2.6199e-04 - accuracy: 0.0000e+00\n",
      "Epoch 85/100\n",
      "667/667 [==============================] - 1s 1ms/step - loss: 1.2251e-04 - accuracy: 0.0000e+00\n",
      "Epoch 86/100\n",
      "667/667 [==============================] - 1s 2ms/step - loss: 1.2987e-04 - accuracy: 0.0000e+00\n",
      "Epoch 87/100\n",
      "667/667 [==============================] - 1s 1ms/step - loss: 1.6288e-04 - accuracy: 0.0000e+00\n",
      "Epoch 88/100\n",
      "667/667 [==============================] - 1s 1ms/step - loss: 1.6918e-04 - accuracy: 0.0000e+00\n",
      "Epoch 89/100\n",
      "667/667 [==============================] - 1s 2ms/step - loss: 1.5543e-04 - accuracy: 0.0000e+00\n",
      "Epoch 90/100\n",
      "667/667 [==============================] - 1s 1ms/step - loss: 1.7275e-04 - accuracy: 0.0000e+00\n",
      "Epoch 91/100\n",
      "667/667 [==============================] - 1s 1ms/step - loss: 1.9822e-04 - accuracy: 0.0000e+00\n",
      "Epoch 92/100\n",
      "667/667 [==============================] - 1s 1ms/step - loss: 1.2592e-04 - accuracy: 0.0000e+00\n",
      "Epoch 93/100\n",
      "667/667 [==============================] - 1s 1ms/step - loss: 1.6010e-04 - accuracy: 0.0000e+00\n",
      "Epoch 94/100\n",
      "667/667 [==============================] - 1s 1ms/step - loss: 2.0828e-04 - accuracy: 0.0000e+00\n",
      "Epoch 95/100\n",
      "667/667 [==============================] - 1s 1ms/step - loss: 1.3261e-04 - accuracy: 0.0000e+00\n",
      "Epoch 96/100\n",
      "667/667 [==============================] - 1s 1ms/step - loss: 1.5748e-04 - accuracy: 0.0000e+00\n",
      "Epoch 97/100\n",
      "667/667 [==============================] - 1s 1ms/step - loss: 1.8108e-04 - accuracy: 0.0000e+00\n",
      "Epoch 98/100\n",
      "667/667 [==============================] - 1s 1ms/step - loss: 2.2614e-04 - accuracy: 0.0000e+00\n",
      "Epoch 99/100\n",
      "667/667 [==============================] - 1s 1ms/step - loss: 1.3943e-04 - accuracy: 0.0000e+00\n",
      "Epoch 100/100\n",
      "667/667 [==============================] - 1s 1ms/step - loss: 1.4675e-04 - accuracy: 0.0000e+00\n"
     ]
    },
    {
     "data": {
      "text/plain": [
       "<tensorflow.python.keras.callbacks.History at 0x7fceb84aff10>"
      ]
     },
     "execution_count": 19,
     "metadata": {},
     "output_type": "execute_result"
    }
   ],
   "source": [
    "# fit the keras model on the dataset\n",
    "model.fit(X, y, epochs=100, batch_size=30)"
   ]
  },
  {
   "cell_type": "code",
   "execution_count": 14,
   "metadata": {
    "id": "qlKv9vCg3BpX"
   },
   "outputs": [],
   "source": [
    "# evaluate the keras model\n",
    "# no point to evaluate an approximation\n",
    "#_, accuracy = model.evaluate(X_scale, y_scale)\n",
    "#print('Accuracy: %.2f' % (accuracy*100))"
   ]
  },
  {
   "cell_type": "code",
   "execution_count": 22,
   "metadata": {
    "colab": {
     "base_uri": "https://localhost:8080/",
     "height": 352
    },
    "id": "PWTnVII9HK2_",
    "outputId": "ebb4f041-66a2-4777-b366-924d9fb2d720"
   },
   "outputs": [
    {
     "data": {
      "text/plain": [
       "[<matplotlib.lines.Line2D at 0x7fceb8341c10>]"
      ]
     },
     "execution_count": 22,
     "metadata": {},
     "output_type": "execute_result"
    },
    {
     "data": {
      "text/plain": [
       "[<matplotlib.lines.Line2D at 0x7fceb8341fa0>]"
      ]
     },
     "execution_count": 22,
     "metadata": {},
     "output_type": "execute_result"
    },
    {
     "data": {
      "text/plain": [
       "Text(0.5, 0, 'Angle [rad]')"
      ]
     },
     "execution_count": 22,
     "metadata": {},
     "output_type": "execute_result"
    },
    {
     "data": {
      "text/plain": [
       "Text(0, 0.5, 'sin(x)')"
      ]
     },
     "execution_count": 22,
     "metadata": {},
     "output_type": "execute_result"
    },
    {
     "data": {
      "text/plain": [
       "(-0.04999467529925308,\n",
       " 1.0499789425597508,\n",
       " 0.05668055507977216,\n",
       " 0.8907809718228619)"
      ]
     },
     "execution_count": 22,
     "metadata": {},
     "output_type": "execute_result"
    },
    {
     "data": {
      "image/png": "[encoded data removed]",
      "text/plain": [
       "<Figure size 432x288 with 1 Axes>"
      ]
     },
     "metadata": {
      "needs_background": "light"
     },
     "output_type": "display_data"
    }
   ],
   "source": [
    "# plotting the curves\n",
    "import matplotlib.pylab as plt\n",
    "\n",
    "pred = model.predict(X)\n",
    "\n",
    "plt.plot(X, y, 'r-')\n",
    "plt.plot(X, pred, 'b--')\n",
    "\n",
    "\n",
    "plt.xlabel('Angle [rad]')\n",
    "plt.ylabel('sin(x)')\n",
    "plt.axis('tight')\n",
    "plt.show()"
   ]
  },
  {
   "cell_type": "code",
   "execution_count": 23,
   "metadata": {
    "colab": {
     "base_uri": "https://localhost:8080/",
     "height": 352
    },
    "id": "PPol79Tc3Bpd",
    "outputId": "4825f320-354b-4b27-952e-05c1629f0181"
   },
   "outputs": [
    {
     "data": {
      "text/plain": [
       "[<matplotlib.lines.Line2D at 0x7fceb82b38b0>]"
      ]
     },
     "execution_count": 23,
     "metadata": {},
     "output_type": "execute_result"
    },
    {
     "data": {
      "text/plain": [
       "[<matplotlib.lines.Line2D at 0x7fceb82b3c10>]"
      ]
     },
     "execution_count": 23,
     "metadata": {},
     "output_type": "execute_result"
    },
    {
     "data": {
      "text/plain": [
       "Text(0.5, 0, 'Angle [rad]')"
      ]
     },
     "execution_count": 23,
     "metadata": {},
     "output_type": "execute_result"
    },
    {
     "data": {
      "text/plain": [
       "Text(0, 0.5, 'sin(x)')"
      ]
     },
     "execution_count": 23,
     "metadata": {},
     "output_type": "execute_result"
    },
    {
     "data": {
      "text/plain": [
       "(-0.04999467529925308,\n",
       " 1.0499789425597508,\n",
       " 0.05668055507977216,\n",
       " 0.8907809718228619)"
      ]
     },
     "execution_count": 23,
     "metadata": {},
     "output_type": "execute_result"
    },
    {
     "data": {
      "image/png": "[encoded data removed]",
      "text/plain": [
       "<Figure size 432x288 with 1 Axes>"
      ]
     },
     "metadata": {
      "needs_background": "light"
     },
     "output_type": "display_data"
    }
   ],
   "source": [
    "# plotting the curves\n",
    "import matplotlib.pyplot as plt\n",
    "\n",
    "pred = model.predict(X)\n",
    "\n",
    "plt.plot(X, y, 'r-')\n",
    "plt.plot(X, pred, 'b--')\n",
    "\n",
    "\n",
    "plt.xlabel('Angle [rad]')\n",
    "plt.ylabel('sin(x)')\n",
    "plt.axis('tight')\n",
    "plt.show()"
   ]
  },
  {
   "cell_type": "code",
   "execution_count": null,
   "metadata": {
    "id": "sKi2k7AVGeqK"
   },
   "outputs": [],
   "source": []
  },
  {
   "cell_type": "code",
   "execution_count": null,
   "metadata": {
    "id": "KSRY7jJzGdmu"
   },
   "outputs": [],
   "source": []
  },
  {
   "cell_type": "code",
   "execution_count": null,
   "metadata": {
    "colab": {
     "base_uri": "https://localhost:8080/"
    },
    "id": "ywdQnMGg3Bpk",
    "outputId": "57769a67-b277-44e4-b7a8-dd722490d9f7"
   },
   "outputs": [
    {
     "data": {
      "text/plain": [
       "array([[2.1780896]], dtype=float32)"
      ]
     },
     "execution_count": 25,
     "metadata": {
      "tags": []
     },
     "output_type": "execute_result"
    }
   ],
   "source": [
    "# check some predictions:\n",
    "model.predict([-5])"
   ]
  },
  {
   "cell_type": "code",
   "execution_count": null,
   "metadata": {
    "id": "rFi-WCzu3Bpr"
   },
   "outputs": [],
   "source": [
    "# make probability predictions with the model\n",
    "predictions = model.predict(X)\n",
    "# round predictions \n",
    "rounded = [round(x[0]) for x in predictions]"
   ]
  },
  {
   "cell_type": "code",
   "execution_count": null,
   "metadata": {
    "colab": {
     "base_uri": "https://localhost:8080/",
     "height": 352
    },
    "id": "ko6Hvzh7DaGA",
    "outputId": "7b268a95-0406-4df1-bc47-c29f913b80e5"
   },
   "outputs": [
    {
     "data": {
      "text/plain": [
       "[<matplotlib.lines.Line2D at 0x7fb31e41acc0>]"
      ]
     },
     "execution_count": 27,
     "metadata": {
      "tags": []
     },
     "output_type": "execute_result"
    },
    {
     "data": {
      "text/plain": [
       "Text(0.5, 0, 'Angle [rad]')"
      ]
     },
     "execution_count": 27,
     "metadata": {
      "tags": []
     },
     "output_type": "execute_result"
    },
    {
     "data": {
      "text/plain": [
       "Text(0, 0.5, 'sin(x)')"
      ]
     },
     "execution_count": 27,
     "metadata": {
      "tags": []
     },
     "output_type": "execute_result"
    },
    {
     "data": {
      "text/plain": [
       "(-0.049883553001048214,\n",
       " 1.0499793063640128,\n",
       " 0.05734032108666172,\n",
       " 0.8907500518203215)"
      ]
     },
     "execution_count": 27,
     "metadata": {
      "tags": []
     },
     "output_type": "execute_result"
    },
    {
     "data": {
      "image/png": "[encoded data removed]",
      "text/plain": [
       "<Figure size 432x288 with 1 Axes>"
      ]
     },
     "metadata": {
      "needs_background": "light",
      "tags": []
     },
     "output_type": "display_data"
    }
   ],
   "source": [
    "import matplotlib.pylab as plt\n",
    "\n",
    "pred = model.predict(X) \n",
    "\n",
    "plt.plot(X, y, 'r-')\n",
    "#plt.plot(X, pred, 'b--')\n",
    "\n",
    "\n",
    "plt.xlabel('Angle [rad]')\n",
    "plt.ylabel('sin(x)')\n",
    "plt.axis('tight')\n",
    "plt.show()"
   ]
  },
  {
   "cell_type": "code",
   "execution_count": null,
   "metadata": {
    "colab": {
     "base_uri": "https://localhost:8080/",
     "height": 35
    },
    "id": "-68NFHPAFy3G",
    "outputId": "ab490510-0af4-494b-803e-1c14e31ae214"
   },
   "outputs": [
    {
     "data": {
      "text/plain": [
       "numpy.ndarray"
      ]
     },
     "execution_count": 173,
     "metadata": {
      "tags": []
     },
     "output_type": "execute_result"
    }
   ],
   "source": [
    "type(pred)"
   ]
  },
  {
   "cell_type": "code",
   "execution_count": null,
   "metadata": {
    "colab": {
     "base_uri": "https://localhost:8080/",
     "height": 283
    },
    "id": "FTF3Z66NDakF",
    "outputId": "e425c63a-9f9b-4e24-8544-87937a89015a"
   },
   "outputs": [
    {
     "data": {
      "image/png": "[encoded data removed]",
      "text/plain": [
       "<Figure size 432x288 with 1 Axes>"
      ]
     },
     "metadata": {
      "tags": []
     },
     "output_type": "display_data"
    }
   ],
   "source": [
    "\n",
    "\n",
    "# target vector y\n",
    "z = [np.sin(X[i]) / np.cos(X[i]) for i in range(N)]\n",
    "z = np.array(z).reshape(-1, 1)\n",
    "\n",
    "pred = model.predict(X)\n",
    "\n",
    "plt.plot(X, z, 'r-')\n",
    "#plt.plot(X, pred, 'b--')\n",
    "\n",
    "\n",
    "plt.xlabel('Angle [rad]')\n",
    "plt.ylabel('sin(x)')\n",
    "plt.axis('tight')\n",
    "plt.show()"
   ]
  },
  {
   "cell_type": "markdown",
   "metadata": {
    "id": "DJj0bNnY3Bpx"
   },
   "source": [
    "model.predict([22])"
   ]
  },
  {
   "cell_type": "code",
   "execution_count": null,
   "metadata": {
    "id": "izgbzPG43Bp4"
   },
   "outputs": [],
   "source": []
  },
  {
   "cell_type": "code",
   "execution_count": null,
   "metadata": {
    "id": "k5mODn8F7lHE"
   },
   "outputs": [],
   "source": []
  },
  {
   "cell_type": "markdown",
   "metadata": {
    "id": "4kCU4Z_N7h0H"
   },
   "source": []
  },
  {
   "cell_type": "markdown",
   "metadata": {
    "id": "rJMSXfb5-UaM"
   },
   "source": []
  },
  {
   "cell_type": "markdown",
   "metadata": {
    "id": "JwPKVUIU8zD0"
   },
   "source": [
    "N = 5000\n",
    "X = [random.uniform(-10, 10) for i in range(N)]\n",
    "X = np.sort(X).reshape(-1, 1)\n",
    "X[:5]"
   ]
  },
  {
   "cell_type": "code",
   "execution_count": null,
   "metadata": {
    "id": "2EFLvSpf7iVQ"
   },
   "outputs": [],
   "source": []
  }
 ],
 "metadata": {
  "accelerator": "GPU",
  "colab": {
   "collapsed_sections": [],
   "name": "funny_function_approx_NN.ipynb",
   "provenance": []
  },
  "kernelspec": {
   "display_name": "Python 3",
   "language": "python",
   "name": "python3"
  },
  "language_info": {
   "codemirror_mode": {
    "name": "ipython",
    "version": 3
   },
   "file_extension": ".py",
   "mimetype": "text/x-python",
   "name": "python",
   "nbconvert_exporter": "python",
   "pygments_lexer": "ipython3",
   "version": "3.8.5"
  }
 },
 "nbformat": 4,
 "nbformat_minor": 1
}
